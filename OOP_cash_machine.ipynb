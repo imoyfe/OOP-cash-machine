{
 "cells": [
  {
   "cell_type": "markdown",
   "metadata": {},
   "source": [
    "# Object Oriented Programming Cash Machine\n"
   ]
  },
  {
   "cell_type": "code",
   "execution_count": 1,
   "metadata": {
    "collapsed": true
   },
   "outputs": [],
   "source": [
    "class Account():\n",
    "    def __init__(self, owner, balance):\n",
    "        self.owner = owner\n",
    "        self.balance = balance\n",
    "    \n",
    "    def __str__(self):\n",
    "        return \"Account owner: {}\".format(self.owner) + \"\\nAccount balance: €{}\".format(self.balance)\n",
    "\n",
    "    def deposit(self, addition):\n",
    "        self.addition = addition\n",
    "        self.balance += self.addition\n",
    "        print(\"Diposit Accepted.\")\n",
    "\n",
    "    def withdraw(self, withdrawal):\n",
    "        self.withdrawal = withdrawal\n",
    "        if self.withdrawal > self.balance:\n",
    "            print(\"Not enough funds available!\" + \"\\nPlease, check current balance: €{}\".format(self.balance))\n",
    "        else:\n",
    "            self.balance -= self.withdrawal\n",
    "            print(\"Withdrawal accepted.\")\n",
    "    \n",
    "    def action(self):\n",
    "        self.owner_action = input(\"Please, type an action: Check/Deposit/Withdrawal/Delete\")\n",
    "        if  self.owner_action == \"Check\":\n",
    "            print(\"Your current balance is: €{}\".format(self.balance))\n",
    "\n",
    "        elif self.owner_action == \"Deposit\":\n",
    "            addition_amount = int(input(\"How much do you want to deposit?\"))\n",
    "            self.deposit(addition_amount)\n",
    "\n",
    "        elif self.owner_action == \"Withdrawal\":\n",
    "            withdrawal_amount = int(input(\"How much do you want to withdraw?\"))\n",
    "            self.withdraw(withdrawal_amount)\n",
    "\n",
    "        elif self.owner_action == \"Delete\":\n",
    "            owner_choice = input(\"Attention! This action cannot be undone. Are you sure you want to delete account? Y/N\")\n",
    "            if owner_choice == \"Y\":\n",
    "                __del__(self)      \n",
    "            else:\n",
    "                self.action()\n",
    "\n",
    "        else:\n",
    "            print(\"Sorry, method not found. Try again.\")\n",
    "            self.action()\n",
    "\n",
    "\n",
    "\n",
    "    def __del__(self):\n",
    "        print(\"Account successfully deleted.\")"
   ]
  },
  {
   "source": [
    "### Let's instantiate our first account:"
   ],
   "cell_type": "markdown",
   "metadata": {}
  },
  {
   "cell_type": "code",
   "execution_count": 2,
   "metadata": {
    "tags": []
   },
   "outputs": [],
   "source": [
    "acct1 = Account(\"Iona\", 300)\n",
    "print(acct1)"
   ]
  },
  {
   "cell_type": "code",
   "execution_count": 4,
   "metadata": {},
   "outputs": [
    {
     "output_type": "execute_result",
     "data": {
      "text/plain": [
       "'Iona'"
      ]
     },
     "metadata": {},
     "execution_count": 4
    }
   ],
   "source": [
    "# Check its attributes:\n",
    "acct1.owner"
   ]
  },
  {
   "cell_type": "code",
   "execution_count": 5,
   "metadata": {},
   "outputs": [
    {
     "output_type": "execute_result",
     "data": {
      "text/plain": [
       "300"
      ]
     },
     "metadata": {},
     "execution_count": 5
    }
   ],
   "source": [
    "acct1.balance"
   ]
  },
  {
   "cell_type": "code",
   "execution_count": 6,
   "metadata": {
    "tags": []
   },
   "outputs": [
    {
     "output_type": "stream",
     "name": "stdout",
     "text": [
      "Diposit Accepted.\n"
     ]
    }
   ],
   "source": [
    "# Use common methods:\n",
    "acct1.deposit(30)"
   ]
  },
  {
   "cell_type": "code",
   "execution_count": 7,
   "metadata": {},
   "outputs": [
    {
     "output_type": "execute_result",
     "data": {
      "text/plain": [
       "330"
      ]
     },
     "metadata": {},
     "execution_count": 7
    }
   ],
   "source": [
    "acct1.balance"
   ]
  },
  {
   "cell_type": "code",
   "execution_count": 8,
   "metadata": {
    "tags": []
   },
   "outputs": [
    {
     "output_type": "stream",
     "name": "stdout",
     "text": [
      "Withdrawal accepted.\n"
     ]
    }
   ],
   "source": [
    "acct1.withdraw(200)"
   ]
  },
  {
   "cell_type": "code",
   "execution_count": 9,
   "metadata": {
    "tags": []
   },
   "outputs": [
    {
     "output_type": "stream",
     "name": "stdout",
     "text": [
      "Not enough funds available!\nPlease, check current balance: €130\n"
     ]
    }
   ],
   "source": [
    "acct1.withdraw(250)"
   ]
  },
  {
   "cell_type": "code",
   "execution_count": 10,
   "metadata": {
    "tags": []
   },
   "outputs": [
    {
     "output_type": "stream",
     "name": "stdout",
     "text": [
      "Your current balance is: €130\n"
     ]
    }
   ],
   "source": [
    "# Or... Play a little bit more with it:\n",
    "acct1.action()"
   ]
  },
  {
   "cell_type": "code",
   "execution_count": 11,
   "metadata": {
    "tags": []
   },
   "outputs": [
    {
     "output_type": "stream",
     "name": "stdout",
     "text": [
      "Account successfully deleted.\n"
     ]
    }
   ],
   "source": [
    "del acct1"
   ]
  },
  {
   "cell_type": "markdown",
   "metadata": {},
   "source": [
    "## Now create your own account!"
   ]
  }
 ],
 "metadata": {
  "kernelspec": {
   "display_name": "Python 3",
   "language": "python",
   "name": "python3"
  },
  "language_info": {
   "codemirror_mode": {
    "name": "ipython",
    "version": 3
   },
   "file_extension": ".py",
   "mimetype": "text/x-python",
   "name": "python",
   "nbconvert_exporter": "python",
   "pygments_lexer": "ipython3",
   "version": "3.7.6-final"
  }
 },
 "nbformat": 4,
 "nbformat_minor": 2
}